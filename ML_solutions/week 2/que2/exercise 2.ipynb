{
 "cells": [
  {
   "cell_type": "code",
   "execution_count": 4,
   "metadata": {
    "collapsed": true
   },
   "outputs": [],
   "source": [
    "%matplotlib inline\n",
    "import numpy as np #to use python as matlab \n",
    "import matplotlib.pyplot as plt #python ka plot function\n",
    "  #This is MAGIC COMMENT. Plot will be in new window\n",
    "%load_ext autoreload \n",
    "%autoreload 2\n",
    "import datetime\n",
    "\n",
    "\n",
    "            \n",
    "\n"
   ]
  },
  {
   "cell_type": "code",
   "execution_count": 6,
   "metadata": {
    "collapsed": false
   },
   "outputs": [],
   "source": [
    "data = np.loadtxt('ex1data2.txt',delimiter=',')\n",
    "\n",
    "x = data[:,0:2]\n",
    "y = data[:,1:2]\n",
    "\n"
   ]
  },
  {
   "cell_type": "code",
   "execution_count": 7,
   "metadata": {
    "collapsed": false
   },
   "outputs": [
    {
     "name": "stdout",
     "output_type": "stream",
     "text": [
      "(47, 1)\n"
     ]
    }
   ],
   "source": [
    "print ((y.shape))"
   ]
  },
  {
   "cell_type": "code",
   "execution_count": 56,
   "metadata": {
    "collapsed": false
   },
   "outputs": [
    {
     "name": "stdout",
     "output_type": "stream",
     "text": [
      "[[  4.62870082e-01]\n",
      " [ -9.71897619e-05]\n",
      " [  9.28535255e-01]]\n",
      "[[ -2.06501483e-14]\n",
      " [ -1.02999206e-18]\n",
      " [  1.00000000e+00]]\n"
     ]
    }
   ],
   "source": [
    "x_dash = np.concatenate((np.ones(y.shape),x),1)\n",
    "\n",
    "#w0 = 1\n",
    "#w1 = 1\n",
    "#w2 = 1\n",
    "alpha = 0.000000005\n",
    "y0 = np.empty(y.shape)\n",
    "col = x_dash.shape[1]\n",
    "m = (1/(y.shape[0]))\n",
    "\n",
    "weights = np.random.random((col,1))\n",
    "\n",
    "itertn = 30000\n",
    "\n",
    "error = np.empty(itertn)\n",
    "cost = np.empty(itertn)\n",
    "\n",
    "for i in range (itertn):\n",
    "\n",
    "        error1 = (x_dash @ weights) - y\n",
    "        #print(error1.shape, y.shape, (x_dash@weights).shape)\n",
    "        weights = weights - ((alpha * m) * (np.dot(x_dash.T,error1)))\n",
    "        \n",
    "        cost[i] = (0.5*m)*(np.sum(np.square(error1)))\n",
    "        error[i] = np.sum(error1)\n",
    "        \n",
    "\n",
    "# plt.plot(cost)\n",
    "# plt.show()\n",
    "# plt.plot(error)\n",
    "# plt.show()             \n",
    "\n",
    "print (weights)\n",
    "b = (np.linalg.inv(x_dash.T @ x_dash))@(x_dash.T)@ y\n",
    "print ((b))\n",
    "                                   "
   ]
  },
  {
   "cell_type": "code",
   "execution_count": 14,
   "metadata": {
    "collapsed": false
   },
   "outputs": [
    {
     "ename": "ValueError",
     "evalue": "operands could not be broadcast together with shapes (3,) (3,47) ",
     "output_type": "error",
     "traceback": [
      "\u001b[0;31m---------------------------------------------------------------------------\u001b[0m",
      "\u001b[0;31mValueError\u001b[0m                                Traceback (most recent call last)",
      "\u001b[0;32m<ipython-input-14-ea530b46ad0e>\u001b[0m in \u001b[0;36m<module>\u001b[0;34m()\u001b[0m\n\u001b[0;32m----> 1\u001b[0;31m \u001b[0mweights\u001b[0m \u001b[1;33m=\u001b[0m \u001b[0mweights\u001b[0m \u001b[1;33m-\u001b[0m \u001b[1;33m(\u001b[0m\u001b[1;33m(\u001b[0m\u001b[0malpha\u001b[0m \u001b[1;33m*\u001b[0m \u001b[0mm\u001b[0m\u001b[1;33m)\u001b[0m \u001b[1;33m*\u001b[0m \u001b[1;33m(\u001b[0m\u001b[0mnp\u001b[0m\u001b[1;33m.\u001b[0m\u001b[0mdot\u001b[0m\u001b[1;33m(\u001b[0m\u001b[0mx_dash\u001b[0m\u001b[1;33m.\u001b[0m\u001b[0mT\u001b[0m\u001b[1;33m,\u001b[0m\u001b[0merror1\u001b[0m\u001b[1;33m)\u001b[0m\u001b[1;33m)\u001b[0m\u001b[1;33m)\u001b[0m\u001b[1;33m\u001b[0m\u001b[0m\n\u001b[0m",
      "\u001b[0;31mValueError\u001b[0m: operands could not be broadcast together with shapes (3,) (3,47) "
     ]
    }
   ],
   "source": [
    "weights = weights - ((alpha * m) * (np.dot(x_dash.T,error1)))"
   ]
  },
  {
   "cell_type": "code",
   "execution_count": 16,
   "metadata": {
    "collapsed": false
   },
   "outputs": [
    {
     "data": {
      "text/plain": [
       "(3, 47)"
      ]
     },
     "execution_count": 16,
     "metadata": {},
     "output_type": "execute_result"
    }
   ],
   "source": [
    "(np.dot(x_dash.T,error1)).shape"
   ]
  },
  {
   "cell_type": "code",
   "execution_count": 17,
   "metadata": {
    "collapsed": false
   },
   "outputs": [
    {
     "data": {
      "text/plain": [
       "(3,)"
      ]
     },
     "execution_count": 17,
     "metadata": {},
     "output_type": "execute_result"
    }
   ],
   "source": [
    "weights.shape"
   ]
  },
  {
   "cell_type": "code",
   "execution_count": 20,
   "metadata": {
    "collapsed": false
   },
   "outputs": [
    {
     "data": {
      "text/plain": [
       "(47, 47)"
      ]
     },
     "execution_count": 20,
     "metadata": {},
     "output_type": "execute_result"
    }
   ],
   "source": [
    "error1.shape"
   ]
  },
  {
   "cell_type": "code",
   "execution_count": null,
   "metadata": {
    "collapsed": true
   },
   "outputs": [],
   "source": []
  }
 ],
 "metadata": {
  "anaconda-cloud": {},
  "kernelspec": {
   "display_name": "Python [default]",
   "language": "python",
   "name": "python3"
  },
  "language_info": {
   "codemirror_mode": {
    "name": "ipython",
    "version": 3
   },
   "file_extension": ".py",
   "mimetype": "text/x-python",
   "name": "python",
   "nbconvert_exporter": "python",
   "pygments_lexer": "ipython3",
   "version": "3.5.2"
  }
 },
 "nbformat": 4,
 "nbformat_minor": 1
}
