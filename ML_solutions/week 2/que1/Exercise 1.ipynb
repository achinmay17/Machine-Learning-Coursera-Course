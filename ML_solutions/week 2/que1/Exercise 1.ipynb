{
 "cells": [
  {
   "cell_type": "code",
   "execution_count": 1,
   "metadata": {
    "collapsed": false
   },
   "outputs": [],
   "source": [
    "\n",
    "%matplotlib inline\n",
    "import numpy as np #to use python as matlab \n",
    "import matplotlib.pyplot as plt #python ka plot function\n",
    "  #This is MAGIC COMMENT. Plot will be in new window\n",
    "%load_ext autoreload \n",
    "%autoreload 2\n",
    "import datetime\n",
    "\n"
   ]
  },
  {
   "cell_type": "code",
   "execution_count": 8,
   "metadata": {
    "collapsed": true
   },
   "outputs": [
    {
     "name": "stdout",
     "output_type": "stream",
     "text": [
      "[[  6.1101   17.592  ]\n",
      " [  5.5277    9.1302 ]\n",
      " [  8.5186   13.662  ]\n",
      " [  7.0032   11.854  ]\n",
      " [  5.8598    6.8233 ]\n",
      " [  8.3829   11.886  ]\n",
      " [  7.4764    4.3483 ]\n",
      " [  8.5781   12.     ]\n",
      " [  6.4862    6.5987 ]\n",
      " [  5.0546    3.8166 ]\n",
      " [  5.7107    3.2522 ]\n",
      " [ 14.164    15.505  ]\n",
      " [  5.734     3.1551 ]\n",
      " [  8.4084    7.2258 ]\n",
      " [  5.6407    0.71618]\n",
      " [  5.3794    3.5129 ]\n",
      " [  6.3654    5.3048 ]\n",
      " [  5.1301    0.56077]\n",
      " [  6.4296    3.6518 ]\n",
      " [  7.0708    5.3893 ]\n",
      " [  6.1891    3.1386 ]\n",
      " [ 20.27     21.767  ]\n",
      " [  5.4901    4.263  ]\n",
      " [  6.3261    5.1875 ]\n",
      " [  5.5649    3.0825 ]\n",
      " [ 18.945    22.638  ]\n",
      " [ 12.828    13.501  ]\n",
      " [ 10.957     7.0467 ]\n",
      " [ 13.176    14.692  ]\n",
      " [ 22.203    24.147  ]\n",
      " [  5.2524   -1.22   ]\n",
      " [  6.5894    5.9966 ]\n",
      " [  9.2482   12.134  ]\n",
      " [  5.8918    1.8495 ]\n",
      " [  8.2111    6.5426 ]\n",
      " [  7.9334    4.5623 ]\n",
      " [  8.0959    4.1164 ]\n",
      " [  5.6063    3.3928 ]\n",
      " [ 12.836    10.117  ]\n",
      " [  6.3534    5.4974 ]\n",
      " [  5.4069    0.55657]\n",
      " [  6.8825    3.9115 ]\n",
      " [ 11.708     5.3854 ]\n",
      " [  5.7737    2.4406 ]\n",
      " [  7.8247    6.7318 ]\n",
      " [  7.0931    1.0463 ]\n",
      " [  5.0702    5.1337 ]\n",
      " [  5.8014    1.844  ]\n",
      " [ 11.7       8.0043 ]\n",
      " [  5.5416    1.0179 ]\n",
      " [  7.5402    6.7504 ]\n",
      " [  5.3077    1.8396 ]\n",
      " [  7.4239    4.2885 ]\n",
      " [  7.6031    4.9981 ]\n",
      " [  6.3328    1.4233 ]\n",
      " [  6.3589   -1.4211 ]\n",
      " [  6.2742    2.4756 ]\n",
      " [  5.6397    4.6042 ]\n",
      " [  9.3102    3.9624 ]\n",
      " [  9.4536    5.4141 ]\n",
      " [  8.8254    5.1694 ]\n",
      " [  5.1793   -0.74279]\n",
      " [ 21.279    17.929  ]\n",
      " [ 14.908    12.054  ]\n",
      " [ 18.959    17.054  ]\n",
      " [  7.2182    4.8852 ]\n",
      " [  8.2951    5.7442 ]\n",
      " [ 10.236     7.7754 ]\n",
      " [  5.4994    1.0173 ]\n",
      " [ 20.341    20.992  ]\n",
      " [ 10.136     6.6799 ]\n",
      " [  7.3345    4.0259 ]\n",
      " [  6.0062    1.2784 ]\n",
      " [  7.2259    3.3411 ]\n",
      " [  5.0269   -2.6807 ]\n",
      " [  6.5479    0.29678]\n",
      " [  7.5386    3.8845 ]\n",
      " [  5.0365    5.7014 ]\n",
      " [ 10.274     6.7526 ]\n",
      " [  5.1077    2.0576 ]\n",
      " [  5.7292    0.47953]\n",
      " [  5.1884    0.20421]\n",
      " [  6.3557    0.67861]\n",
      " [  9.7687    7.5435 ]\n",
      " [  6.5159    5.3436 ]\n",
      " [  8.5172    4.2415 ]\n",
      " [  9.1802    6.7981 ]\n",
      " [  6.002     0.92695]\n",
      " [  5.5204    0.152  ]\n",
      " [  5.0594    2.8214 ]\n",
      " [  5.7077    1.8451 ]\n",
      " [  7.6366    4.2959 ]\n",
      " [  5.8707    7.2029 ]\n",
      " [  5.3054    1.9869 ]\n",
      " [  8.2934    0.14454]\n",
      " [ 13.394     9.0551 ]\n",
      " [  5.4369    0.61705]]\n"
     ]
    }
   ],
   "source": [
    "data = np.loadtxt('ex1data1.txt',delimiter=',')\n",
    "print (data)\n"
   ]
  },
  {
   "cell_type": "code",
   "execution_count": 5,
   "metadata": {
    "collapsed": false
   },
   "outputs": [
    {
     "name": "stdout",
     "output_type": "stream",
     "text": [
      "(97, 2)\n"
     ]
    }
   ],
   "source": [
    "print (data.shape)"
   ]
  },
  {
   "cell_type": "code",
   "execution_count": 9,
   "metadata": {
    "collapsed": false
   },
   "outputs": [
    {
     "ename": "NameError",
     "evalue": "name 'y' is not defined",
     "output_type": "error",
     "traceback": [
      "\u001b[0;31m---------------------------------------------------------------------------\u001b[0m",
      "\u001b[0;31mNameError\u001b[0m                                 Traceback (most recent call last)",
      "\u001b[0;32m<ipython-input-9-57c5b46652b0>\u001b[0m in \u001b[0;36m<module>\u001b[0;34m()\u001b[0m\n\u001b[0;32m----> 1\u001b[0;31m \u001b[0my\u001b[0m\u001b[1;33m.\u001b[0m\u001b[0mshape\u001b[0m\u001b[1;33m\u001b[0m\u001b[0m\n\u001b[0m",
      "\u001b[0;31mNameError\u001b[0m: name 'y' is not defined"
     ]
    }
   ],
   "source": [
    "y.shape"
   ]
  },
  {
   "cell_type": "code",
   "execution_count": 10,
   "metadata": {
    "collapsed": false
   },
   "outputs": [
    {
     "data": {
      "text/plain": [
       "(97,)"
      ]
     },
     "execution_count": 10,
     "metadata": {},
     "output_type": "execute_result"
    }
   ],
   "source": [
    "x = data[:,0]\n",
    "y = data[:,1]\n",
    "y.shape"
   ]
  },
  {
   "cell_type": "code",
   "execution_count": 13,
   "metadata": {
    "collapsed": true
   },
   "outputs": [],
   "source": [
    "w0 = 1\n",
    "w1 = 1\n",
    "error1 = (w0 + w1*x) - y"
   ]
  },
  {
   "cell_type": "code",
   "execution_count": 29,
   "metadata": {
    "collapsed": false
   },
   "outputs": [
    {
     "name": "stdout",
     "output_type": "stream",
     "text": [
      "[ 4  9 16]\n"
     ]
    }
   ],
   "source": [
    "np.sum((error1))\n",
    "a=[2,3,4]\n",
    "\n",
    "b=np.square(a)\n",
    "print (b)"
   ]
  },
  {
   "cell_type": "code",
   "execution_count": 41,
   "metadata": {
    "collapsed": false
   },
   "outputs": [
    {
     "name": "stdout",
     "output_type": "stream",
     "text": [
      "-inf\n"
     ]
    }
   ],
   "source": [
    "print ((np.dot(x.T,error1)))"
   ]
  },
  {
   "cell_type": "code",
   "execution_count": 61,
   "metadata": {
    "collapsed": true
   },
   "outputs": [
    {
     "name": "stdout",
     "output_type": "stream",
     "text": [
      "[[ 2.12242838  1.82148449  3.12398848  2.28911393  2.01550036  3.33055068\n",
      "   2.57556317  1.85934906  2.19749878  2.33989449]\n",
      " [ 2.93593087  2.51688915  2.40923286  2.18816687  2.62583277  2.77393073\n",
      "   2.20059676  1.83114801  2.28745665  2.22731674]\n",
      " [ 2.2467378   2.24399044  3.42149715  1.92324314  2.65940186  2.84519918\n",
      "   2.16246555  1.94723243  2.25413443  2.1921146 ]\n",
      " [ 2.82335918  2.53427041  3.35907201  2.35806515  2.31901819  3.55207717\n",
      "   2.57991239  1.88406934  2.45028121  2.65905393]\n",
      " [ 2.22171378  1.74539748  1.88668305  1.71012824  1.60577847  2.18962045\n",
      "   1.70482975  1.28534615  1.71650057  1.51607553]\n",
      " [ 3.2587188   2.08420503  2.74204362  2.32834737  2.42507052  3.28152818\n",
      "   2.66967041  1.7906089   2.3770138   2.05628112]\n",
      " [ 2.14872751  1.85714999  2.36416882  1.55979546  2.20645328  2.32492551\n",
      "   1.77393195  1.48652509  1.79924118  1.61724231]\n",
      " [ 2.38076166  2.11615072  3.51160835  2.39245382  1.87403046  3.36634921\n",
      "   2.83241677  1.767134    2.55607938  2.678996  ]\n",
      " [ 2.42177657  3.02341175  2.77778482  2.75393891  3.29409122  3.10842102\n",
      "   2.86138365  2.41605747  3.0135896   2.83681033]\n",
      " [ 2.69935555  2.18004132  3.45632369  2.32332427  2.47912953  3.10260817\n",
      "   2.34091341  2.07475936  2.35586772  2.24393556]]\n",
      "[[ 2.12242838  1.82148449  3.12398848  2.28911393  2.01550036  3.33055068\n",
      "   2.57556317  1.85934906  2.19749878  2.33989449]\n",
      " [ 2.93593087  2.51688915  2.40923286  2.18816687  2.62583277  2.77393073\n",
      "   2.20059676  1.83114801  2.28745665  2.22731674]\n",
      " [ 2.2467378   2.24399044  3.42149715  1.92324314  2.65940186  2.84519918\n",
      "   2.16246555  1.94723243  2.25413443  2.1921146 ]\n",
      " [ 2.82335918  2.53427041  3.35907201  2.35806515  2.31901819  3.55207717\n",
      "   2.57991239  1.88406934  2.45028121  2.65905393]\n",
      " [ 2.22171378  1.74539748  1.88668305  1.71012824  1.60577847  2.18962045\n",
      "   1.70482975  1.28534615  1.71650057  1.51607553]\n",
      " [ 3.2587188   2.08420503  2.74204362  2.32834737  2.42507052  3.28152818\n",
      "   2.66967041  1.7906089   2.3770138   2.05628112]\n",
      " [ 2.14872751  1.85714999  2.36416882  1.55979546  2.20645328  2.32492551\n",
      "   1.77393195  1.48652509  1.79924118  1.61724231]\n",
      " [ 2.38076166  2.11615072  3.51160835  2.39245382  1.87403046  3.36634921\n",
      "   2.83241677  1.767134    2.55607938  2.678996  ]\n",
      " [ 2.42177657  3.02341175  2.77778482  2.75393891  3.29409122  3.10842102\n",
      "   2.86138365  2.41605747  3.0135896   2.83681033]\n",
      " [ 2.69935555  2.18004132  3.45632369  2.32332427  2.47912953  3.10260817\n",
      "   2.34091341  2.07475936  2.35586772  2.24393556]]\n",
      "[[  5.01219628e-01   2.87823256e-01   3.79314254e-01   4.46774945e-01\n",
      "    6.43753588e-02   1.07016522e-01   3.07797981e-01   1.22716015e-01\n",
      "    8.13092412e-02   1.47401277e-01]\n",
      " [  2.33185168e-03   5.09947983e-02   9.27411281e-01   6.23839947e-02\n",
      "    1.59489479e-01   1.53408938e-01   1.33630155e-01   3.17270766e-01\n",
      "    8.88769063e-01   5.85867100e-01]\n",
      " [  3.72894084e-03   4.58170824e-01   2.04691556e-02   1.65269157e-01\n",
      "    5.79078901e-02   9.47754469e-02   3.24644247e-01   2.94934393e-01\n",
      "    2.48087885e-01   1.00336775e-01]\n",
      " [  4.70904562e-01   4.21001719e-02   4.51730792e-01   1.15558114e-01\n",
      "    1.05251986e-01   1.87530589e-01   5.29286544e-01   3.79217503e-01\n",
      "    2.55235293e-01   2.72267480e-01]\n",
      " [  2.75360851e-01   1.24584673e-01   1.52934288e-01   4.70634986e-01\n",
      "    1.93222463e-01   3.43704610e-01   3.12851235e-02   2.22010219e-01\n",
      "    2.44889314e-01   3.20626879e-02]\n",
      " [  5.61136530e-01   5.53925003e-02   2.25353871e-01   3.78293336e-01\n",
      "    2.91265528e-02   7.14394836e-02   4.75773134e-02   5.38642625e-02\n",
      "    5.84159628e-01   2.46096872e-01]\n",
      " [  1.92432803e-03   1.66491317e-01   4.55745508e-02   4.16411339e-02\n",
      "    3.43293557e-02   1.70597378e-01   1.26490746e-01   1.81729729e-01\n",
      "    1.37542493e-01   2.78144156e-01]\n",
      " [  6.26550088e-01   4.08160121e-01   5.51787062e-01   2.54875353e-01\n",
      "    2.11616488e-01   2.74848078e-01   9.00478188e-02   2.68135084e-01\n",
      "    5.21885412e-02   2.35474462e-02]\n",
      " [  1.60208625e-01   6.13398916e-01   6.24424372e-02   2.23194538e-04\n",
      "    7.00331800e-01   2.74452191e-02   7.66221088e-03   8.66734922e-02\n",
      "    1.15623903e-01   1.78487246e-01]\n",
      " [  4.11996587e-01   7.53074734e-02   4.86318224e-01   5.22964720e-01\n",
      "    4.70042034e-04   5.82888393e-01   6.62059509e-01   2.01669623e-01\n",
      "    1.57722630e-01   3.71920024e-02]]\n"
     ]
    }
   ],
   "source": [
    "A = np.random.random((10,10))\n",
    "B = np.random.random((10,10))\n",
    "print(A@B) # Normal matrix multiplication  ***WORKS only with Python 3 and not implemented in python 2!!\n",
    "print(A.dot(B)) #Equivalent to the above command\n",
    "print(A*B) # Element-wise multiplication of A and B"
   ]
  },
  {
   "cell_type": "code",
   "execution_count": 73,
   "metadata": {
    "collapsed": false
   },
   "outputs": [
    {
     "data": {
      "text/plain": [
       "(97, 1)"
      ]
     },
     "execution_count": 73,
     "metadata": {},
     "output_type": "execute_result"
    }
   ],
   "source": [
    "data[:,0:1].shape"
   ]
  },
  {
   "cell_type": "code",
   "execution_count": 79,
   "metadata": {
    "collapsed": false
   },
   "outputs": [
    {
     "name": "stdout",
     "output_type": "stream",
     "text": [
      "-3.89577437552 1.19303299091\n",
      "[[-3.89578088]\n",
      " [ 1.19303364]]\n"
     ]
    }
   ],
   "source": [
    "#Akhilesh has nothing to do with this code \n",
    "\n",
    "x = data[:,0:1]\n",
    "y = data[:,1:2]\n",
    "y0 = np.empty(y.shape) #other option was y0 = np.empty((97,))\n",
    "w0 = 1\n",
    "w0temp=1\n",
    "w1 = 1\n",
    "w1temp=1\n",
    "m=(1/97)\n",
    "max_iter = 15000\n",
    "alpha=0.005\n",
    "error=np.empty(max_iter)\n",
    "cost=np.empty(max_iter)\n",
    "\n",
    "for itertn in range (max_iter):\n",
    "    \n",
    "    error1 = (w0 + (w1 * x)) - y\n",
    "    \n",
    "    \n",
    "    w0 = w0 - ((alpha * m) * (np.sum(error1)))\n",
    "    w1 = w1 - ((alpha * m) * (np.sum(np.dot(x.T,(error1)))))\n",
    "    \n",
    "    \n",
    "    #print((0.5*m)*(np.sum(np.square(error1))))\n",
    "    cost[itertn]=(0.5*m)*(np.sum(np.square(error1)))\n",
    "    error[itertn] = np.sum(error1)\n",
    "\n",
    "print (w0,w1)\n",
    "\n",
    "X_dash = np.concatenate((np.ones(x.shape),x),1)\n",
    "b = (np.linalg.inv(X_dash.T @ X_dash))@(X_dash.T)@ y\n",
    "print ((b))\n",
    "\n",
    "\n",
    "    \n",
    "    \n",
    "    \n",
    "    \n"
   ]
  },
  {
   "cell_type": "code",
   "execution_count": 70,
   "metadata": {
    "collapsed": false
   },
   "outputs": [
    {
     "data": {
      "text/plain": [
       "(97, 1)"
      ]
     },
     "execution_count": 70,
     "metadata": {},
     "output_type": "execute_result"
    }
   ],
   "source": [
    "x.reshape((97,1)).shape"
   ]
  },
  {
   "cell_type": "code",
   "execution_count": 67,
   "metadata": {
    "collapsed": false
   },
   "outputs": [
    {
     "data": {
      "text/plain": [
       "[<matplotlib.lines.Line2D at 0x1c4799d0828>]"
      ]
     },
     "execution_count": 67,
     "metadata": {},
     "output_type": "execute_result"
    },
    {
     "data": {
      "image/png": "[encoded data removed]",
      "text/plain": [
       "<matplotlib.figure.Figure at 0x1c479991e48>"
      ]
     },
     "metadata": {},
     "output_type": "display_data"
    }
   ],
   "source": [
    "plt.plot((cost))\n"
   ]
  },
  {
   "cell_type": "code",
   "execution_count": 33,
   "metadata": {
    "collapsed": false
   },
   "outputs": [
    {
     "data": {
      "text/plain": [
       "(1500,)"
      ]
     },
     "execution_count": 33,
     "metadata": {},
     "output_type": "execute_result"
    }
   ],
   "source": [
    "error.shape\n"
   ]
  },
  {
   "cell_type": "code",
   "execution_count": null,
   "metadata": {
    "collapsed": true
   },
   "outputs": [],
   "source": []
  }
 ],
 "metadata": {
  "anaconda-cloud": {},
  "kernelspec": {
   "display_name": "Python [default]",
   "language": "python",
   "name": "python3"
  },
  "language_info": {
   "codemirror_mode": {
    "name": "ipython",
    "version": 3
   },
   "file_extension": ".py",
   "mimetype": "text/x-python",
   "name": "python",
   "nbconvert_exporter": "python",
   "pygments_lexer": "ipython3",
   "version": "3.5.2"
  }
 },
 "nbformat": 4,
 "nbformat_minor": 1
}
